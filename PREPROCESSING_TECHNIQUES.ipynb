{
  "nbformat": 4,
  "nbformat_minor": 0,
  "metadata": {
    "colab": {
      "name": "PREPROCESSING TECHNIQUES.ipynb",
      "provenance": []
    },
    "kernelspec": {
      "name": "python3",
      "display_name": "Python 3"
    },
    "language_info": {
      "name": "python"
    }
  },
  "cells": [
    {
      "cell_type": "markdown",
      "source": [
        "**TOKENIZATION**"
      ],
      "metadata": {
        "id": "zzu5soDblX45"
      }
    },
    {
      "cell_type": "markdown",
      "source": [
        "**WORD TOKENIZATION**"
      ],
      "metadata": {
        "id": "8JwOJdV_mO3I"
      }
    },
    {
      "cell_type": "code",
      "source": [
        "text = \"I am Amokaa\"\n",
        "text.split()"
      ],
      "metadata": {
        "colab": {
          "base_uri": "https://localhost:8080/"
        },
        "id": "RuYSLB4vnhKy",
        "outputId": "4e6b7a1e-eb73-4ec4-b474-4596dfdbc12c"
      },
      "execution_count": 1,
      "outputs": [
        {
          "output_type": "execute_result",
          "data": {
            "text/plain": [
              "['I', 'am', 'Amokaa']"
            ]
          },
          "metadata": {},
          "execution_count": 1
        }
      ]
    },
    {
      "cell_type": "code",
      "source": [
        "text =  \"Python is an open source programming language. It was made to be easy-to-read and powerful.\"\n",
        "text.split(' . ') "
      ],
      "metadata": {
        "colab": {
          "base_uri": "https://localhost:8080/"
        },
        "id": "62CIRFlUldNv",
        "outputId": "e3f3542b-dfc7-4c1d-eaae-6aab85ead778"
      },
      "execution_count": 2,
      "outputs": [
        {
          "output_type": "execute_result",
          "data": {
            "text/plain": [
              "['Python is an open source programming language. It was made to be easy-to-read and powerful.']"
            ]
          },
          "metadata": {},
          "execution_count": 2
        }
      ]
    },
    {
      "cell_type": "markdown",
      "source": [
        "**TOKENIZATION USING REGULAR EXPRESSION (re)**"
      ],
      "metadata": {
        "id": "ArhhNHd0o4hE"
      }
    },
    {
      "cell_type": "code",
      "execution_count": 3,
      "metadata": {
        "id": "Qr6CBuzNkFow"
      },
      "outputs": [],
      "source": [
        "import re"
      ]
    },
    {
      "cell_type": "code",
      "source": [
        "text = \"Python is an open source programming language. It was made to be easy-to-read and powerful.\"\n",
        "text= re.compile('[.?!]').split(text)\n",
        "text"
      ],
      "metadata": {
        "id": "0NJ8p6zQpCBZ",
        "colab": {
          "base_uri": "https://localhost:8080/"
        },
        "outputId": "aba05b23-13b9-444a-f595-eab79ccad474"
      },
      "execution_count": 4,
      "outputs": [
        {
          "output_type": "execute_result",
          "data": {
            "text/plain": [
              "['Python is an open source programming language',\n",
              " ' It was made to be easy-to-read and powerful',\n",
              " '']"
            ]
          },
          "metadata": {},
          "execution_count": 4
        }
      ]
    },
    {
      "cell_type": "markdown",
      "source": [
        "**TOKENIZATION USING NLTK**"
      ],
      "metadata": {
        "id": "Rmsw5VUf-tNa"
      }
    },
    {
      "cell_type": "code",
      "source": [
        "import nltk"
      ],
      "metadata": {
        "id": "a_LwvSzz_vKh"
      },
      "execution_count": 5,
      "outputs": []
    },
    {
      "cell_type": "code",
      "source": [
        "from nltk.tokenize import word_tokenize"
      ],
      "metadata": {
        "id": "QEsewhdQ-yp1"
      },
      "execution_count": 6,
      "outputs": []
    },
    {
      "cell_type": "code",
      "source": [
        "nltk.download(\"punkt\")"
      ],
      "metadata": {
        "colab": {
          "base_uri": "https://localhost:8080/"
        },
        "id": "2VWWA9vN_oJD",
        "outputId": "80c0e086-1ccb-4a14-e25d-d86632bc16c1"
      },
      "execution_count": 7,
      "outputs": [
        {
          "output_type": "stream",
          "name": "stdout",
          "text": [
            "[nltk_data] Downloading package punkt to /root/nltk_data...\n",
            "[nltk_data]   Unzipping tokenizers/punkt.zip.\n"
          ]
        },
        {
          "output_type": "execute_result",
          "data": {
            "text/plain": [
              "True"
            ]
          },
          "metadata": {},
          "execution_count": 7
        }
      ]
    },
    {
      "cell_type": "code",
      "source": [
        "text = \"Python is an open source programming language. It was made to be easy-to-read and powerful.\"\n",
        "word_tokenize(text)"
      ],
      "metadata": {
        "colab": {
          "base_uri": "https://localhost:8080/"
        },
        "id": "IPSzsb0W-hzG",
        "outputId": "b1a52712-3ab1-4475-ec3c-91907e9c262f"
      },
      "execution_count": 8,
      "outputs": [
        {
          "output_type": "execute_result",
          "data": {
            "text/plain": [
              "['Python',\n",
              " 'is',\n",
              " 'an',\n",
              " 'open',\n",
              " 'source',\n",
              " 'programming',\n",
              " 'language',\n",
              " '.',\n",
              " 'It',\n",
              " 'was',\n",
              " 'made',\n",
              " 'to',\n",
              " 'be',\n",
              " 'easy-to-read',\n",
              " 'and',\n",
              " 'powerful',\n",
              " '.']"
            ]
          },
          "metadata": {},
          "execution_count": 8
        }
      ]
    },
    {
      "cell_type": "code",
      "source": [
        "from nltk.tokenize import sent_tokenize\n",
        "text = \"Python is an open source programming language. It was made to be easy-to-read and powerful.\"\n",
        "sent_tokenize(text)"
      ],
      "metadata": {
        "colab": {
          "base_uri": "https://localhost:8080/"
        },
        "id": "tmt_Oc4n_dc2",
        "outputId": "324307f4-d246-4414-9ba2-86f7efa320f8"
      },
      "execution_count": 9,
      "outputs": [
        {
          "output_type": "execute_result",
          "data": {
            "text/plain": [
              "['Python is an open source programming language.',\n",
              " 'It was made to be easy-to-read and powerful.']"
            ]
          },
          "metadata": {},
          "execution_count": 9
        }
      ]
    },
    {
      "cell_type": "markdown",
      "source": [
        "**TOKENIZATION USING KERAS**"
      ],
      "metadata": {
        "id": "hfBTuKGiAXXg"
      }
    },
    {
      "cell_type": "code",
      "source": [
        "import keras"
      ],
      "metadata": {
        "id": "HM_AJOx-Ac-n"
      },
      "execution_count": 10,
      "outputs": []
    },
    {
      "cell_type": "code",
      "source": [
        "from keras.preprocessing.text import text_to_word_sequence\n",
        "text = \"Python is an open source programming language. It was made to be easy-to-read and powerful.\"\n",
        "text1 = text_to_word_sequence(text)\n",
        "text1"
      ],
      "metadata": {
        "colab": {
          "base_uri": "https://localhost:8080/"
        },
        "id": "6DLJtcJBAIX9",
        "outputId": "12295678-1289-4a0b-8af9-0011cd4fabd6"
      },
      "execution_count": 11,
      "outputs": [
        {
          "output_type": "execute_result",
          "data": {
            "text/plain": [
              "['python',\n",
              " 'is',\n",
              " 'an',\n",
              " 'open',\n",
              " 'source',\n",
              " 'programming',\n",
              " 'language',\n",
              " 'it',\n",
              " 'was',\n",
              " 'made',\n",
              " 'to',\n",
              " 'be',\n",
              " 'easy',\n",
              " 'to',\n",
              " 'read',\n",
              " 'and',\n",
              " 'powerful']"
            ]
          },
          "metadata": {},
          "execution_count": 11
        }
      ]
    },
    {
      "cell_type": "markdown",
      "source": [
        "**TOKENIZATION USING GENSIM**"
      ],
      "metadata": {
        "id": "SMIqdY4bCU-Z"
      }
    },
    {
      "cell_type": "code",
      "source": [
        "import gensim"
      ],
      "metadata": {
        "id": "BcnwhWgXCa26"
      },
      "execution_count": 12,
      "outputs": []
    },
    {
      "cell_type": "code",
      "source": [
        "from gensim.utils import tokenize"
      ],
      "metadata": {
        "id": "kwsbjhAXCPPs"
      },
      "execution_count": 13,
      "outputs": []
    },
    {
      "cell_type": "code",
      "source": [
        "text = \"Python is an open source programming language. It was made to be easy-to-read and powerful.\"\n",
        "list(tokenize(text))"
      ],
      "metadata": {
        "colab": {
          "base_uri": "https://localhost:8080/"
        },
        "id": "u8LJ6loICkXx",
        "outputId": "174891a9-961c-4a8f-fdce-8e189af701c6"
      },
      "execution_count": 14,
      "outputs": [
        {
          "output_type": "execute_result",
          "data": {
            "text/plain": [
              "['Python',\n",
              " 'is',\n",
              " 'an',\n",
              " 'open',\n",
              " 'source',\n",
              " 'programming',\n",
              " 'language',\n",
              " 'It',\n",
              " 'was',\n",
              " 'made',\n",
              " 'to',\n",
              " 'be',\n",
              " 'easy',\n",
              " 'to',\n",
              " 'read',\n",
              " 'and',\n",
              " 'powerful']"
            ]
          },
          "metadata": {},
          "execution_count": 14
        }
      ]
    },
    {
      "cell_type": "markdown",
      "source": [
        "**STEMMING**"
      ],
      "metadata": {
        "id": "E4Vc1nwqDqsQ"
      }
    },
    {
      "cell_type": "markdown",
      "source": [
        "**PORTER STEMMER()**"
      ],
      "metadata": {
        "id": "kSmt9w4LD7xK"
      }
    },
    {
      "cell_type": "code",
      "source": [
        "from nltk.stem import PorterStemmer\n",
        "porter = PorterStemmer()\n",
        "words = ['Listen','Listening','Listened','Listens']\n",
        "for word in words:\n",
        "    print(word,\"--->\",porter.stem(word))"
      ],
      "metadata": {
        "colab": {
          "base_uri": "https://localhost:8080/"
        },
        "id": "7_62WtZcECQQ",
        "outputId": "30ae7de3-2efa-428b-e72f-92f366d8fca4"
      },
      "execution_count": 15,
      "outputs": [
        {
          "output_type": "stream",
          "name": "stdout",
          "text": [
            "Listen ---> listen\n",
            "Listening ---> listen\n",
            "Listened ---> listen\n",
            "Listens ---> listen\n"
          ]
        }
      ]
    },
    {
      "cell_type": "markdown",
      "source": [
        "**SNOWBALL STEMMER()**"
      ],
      "metadata": {
        "id": "Dqfm2SSCEVrq"
      }
    },
    {
      "cell_type": "code",
      "source": [
        "from nltk.stem import SnowballStemmer\n",
        "snowball = SnowballStemmer(language='english')\n",
        "words = ['sleep','slept','slept','sleeping']\n",
        "for word in words:\n",
        "    print(word,\"--->\",snowball.stem(word))"
      ],
      "metadata": {
        "colab": {
          "base_uri": "https://localhost:8080/"
        },
        "id": "2LdRvGiyEZt8",
        "outputId": "a16f928b-14e2-4fda-f4f4-6761db57308b"
      },
      "execution_count": 16,
      "outputs": [
        {
          "output_type": "stream",
          "name": "stdout",
          "text": [
            "sleep ---> sleep\n",
            "slept ---> slept\n",
            "slept ---> slept\n",
            "sleeping ---> sleep\n"
          ]
        }
      ]
    },
    {
      "cell_type": "markdown",
      "source": [
        "**LANCASTER STEMMER()**"
      ],
      "metadata": {
        "id": "ZzFszH_4Eif7"
      }
    },
    {
      "cell_type": "code",
      "source": [
        "from nltk.stem import LancasterStemmer\n",
        "lancaster = LancasterStemmer()\n",
        "words = ['Understand','Understood','Understood','work','working']\n",
        "for word in words:\n",
        "    print(word,\"--->\",lancaster.stem(word))"
      ],
      "metadata": {
        "colab": {
          "base_uri": "https://localhost:8080/"
        },
        "id": "OClH1OZiDt0w",
        "outputId": "8e5abf28-2634-40fa-ffb7-41b33299ea9e"
      },
      "execution_count": null,
      "outputs": [
        {
          "output_type": "stream",
          "name": "stdout",
          "text": [
            "Understand ---> understand\n",
            "Understood ---> understood\n",
            "Understood ---> understood\n",
            "work ---> work\n",
            "working ---> work\n"
          ]
        }
      ]
    },
    {
      "cell_type": "markdown",
      "source": [
        "**LEMMATIZATION**"
      ],
      "metadata": {
        "id": "K3CBNFWeFbRA"
      }
    },
    {
      "cell_type": "code",
      "source": [
        "from textblob import TextBlob,Word"
      ],
      "metadata": {
        "id": "NtxEejf-Cvao"
      },
      "execution_count": 17,
      "outputs": []
    },
    {
      "cell_type": "code",
      "source": [
        "nltk.download('wordnet')"
      ],
      "metadata": {
        "colab": {
          "base_uri": "https://localhost:8080/"
        },
        "id": "7QzCSdTBDs8Q",
        "outputId": "75c83643-1cb9-428a-de00-05256b3665f1"
      },
      "execution_count": 18,
      "outputs": [
        {
          "output_type": "stream",
          "name": "stdout",
          "text": [
            "[nltk_data] Downloading package wordnet to /root/nltk_data...\n",
            "[nltk_data]   Unzipping corpora/wordnet.zip.\n"
          ]
        },
        {
          "output_type": "execute_result",
          "data": {
            "text/plain": [
              "True"
            ]
          },
          "metadata": {},
          "execution_count": 18
        }
      ]
    },
    {
      "cell_type": "code",
      "source": [
        "listofwords = ['nap' , 'gets' , 'trying' , 'clean']"
      ],
      "metadata": {
        "id": "FP1MMuifFiyR"
      },
      "execution_count": 19,
      "outputs": []
    },
    {
      "cell_type": "code",
      "source": [
        "for word in listofwords:\n",
        "  w = Word(word)\n",
        "  print(word + '--->' + w.lemmatize())"
      ],
      "metadata": {
        "colab": {
          "base_uri": "https://localhost:8080/"
        },
        "id": "2S5uZ6xsF3YX",
        "outputId": "fe42c672-d6ef-4693-a431-514f8785e32b"
      },
      "execution_count": 20,
      "outputs": [
        {
          "output_type": "stream",
          "name": "stdout",
          "text": [
            "nap--->nap\n",
            "gets--->get\n",
            "trying--->trying\n",
            "clean--->clean\n"
          ]
        }
      ]
    },
    {
      "cell_type": "code",
      "source": [
        "from nltk.stem import WordNetLemmatizer"
      ],
      "metadata": {
        "id": "qcrzxn_hF68q"
      },
      "execution_count": 21,
      "outputs": []
    },
    {
      "cell_type": "code",
      "source": [
        "wn1=WordNetLemmatizer()"
      ],
      "metadata": {
        "id": "iS3EMJ8OF_-P"
      },
      "execution_count": 22,
      "outputs": []
    },
    {
      "cell_type": "code",
      "source": [
        "for words in listofwords:\n",
        "  print(words + '--->' + wn1.lemmatize(words))"
      ],
      "metadata": {
        "colab": {
          "base_uri": "https://localhost:8080/"
        },
        "id": "TiR9IAhiGDMS",
        "outputId": "a2808bf2-a2a0-4503-d7f9-b82fb4339893"
      },
      "execution_count": 23,
      "outputs": [
        {
          "output_type": "stream",
          "name": "stdout",
          "text": [
            "nap--->nap\n",
            "gets--->get\n",
            "trying--->trying\n",
            "clean--->clean\n"
          ]
        }
      ]
    },
    {
      "cell_type": "markdown",
      "source": [
        "**COSINE SIMILARITIES**"
      ],
      "metadata": {
        "id": "H5jeEk3mGimp"
      }
    },
    {
      "cell_type": "code",
      "source": [
        "import en_core_web_sm"
      ],
      "metadata": {
        "id": "mcOj3M4SGHV-"
      },
      "execution_count": 24,
      "outputs": []
    },
    {
      "cell_type": "code",
      "source": [
        "nlp = en_core_web_sm.load()"
      ],
      "metadata": {
        "id": "FLCPz2itGodC"
      },
      "execution_count": 25,
      "outputs": []
    },
    {
      "cell_type": "code",
      "source": [
        "sent1 = nlp(\"I like to open my mind, but my mouth in a general discussion.\")\n",
        "sent2 = nlp(\"I like to open my mind, but not my mouth in a general discussion.\")\n",
        "print(sent2.similarity(sent1))"
      ],
      "metadata": {
        "colab": {
          "base_uri": "https://localhost:8080/"
        },
        "id": "1BLGTXPHGreK",
        "outputId": "92cb0dbb-3416-4a82-9e20-460d371c644a"
      },
      "execution_count": 26,
      "outputs": [
        {
          "output_type": "stream",
          "name": "stdout",
          "text": [
            "0.9661457898093567\n"
          ]
        },
        {
          "output_type": "stream",
          "name": "stderr",
          "text": [
            "/usr/lib/python3.7/runpy.py:193: ModelsWarning: [W007] The model you're using has no word vectors loaded, so the result of the Doc.similarity method will be based on the tagger, parser and NER, which may not give useful similarity judgements. This may happen if you're using one of the small models, e.g. `en_core_web_sm`, which don't ship with word vectors and only use context-sensitive tensors. You can always add your own word vectors, or use one of the larger models instead if available.\n",
            "  \"__main__\", mod_spec)\n"
          ]
        }
      ]
    },
    {
      "cell_type": "code",
      "source": [
        "nltk.download('stopwords')"
      ],
      "metadata": {
        "colab": {
          "base_uri": "https://localhost:8080/"
        },
        "id": "rGT4nk3NHYzN",
        "outputId": "968f68b8-3bb2-4ca0-af92-835612a96f44"
      },
      "execution_count": 27,
      "outputs": [
        {
          "output_type": "stream",
          "name": "stdout",
          "text": [
            "[nltk_data] Downloading package stopwords to /root/nltk_data...\n",
            "[nltk_data]   Unzipping corpora/stopwords.zip.\n"
          ]
        },
        {
          "output_type": "execute_result",
          "data": {
            "text/plain": [
              "True"
            ]
          },
          "metadata": {},
          "execution_count": 27
        }
      ]
    },
    {
      "cell_type": "code",
      "source": [
        "import nltk\n",
        "from nltk.corpus import stopwords"
      ],
      "metadata": {
        "id": "nFVBUBThHZkz"
      },
      "execution_count": 28,
      "outputs": []
    },
    {
      "cell_type": "code",
      "source": [
        "print(stopwords.words('english'))"
      ],
      "metadata": {
        "colab": {
          "base_uri": "https://localhost:8080/"
        },
        "id": "jpxIsvYeHc9g",
        "outputId": "7c852d8c-5cd2-4ea2-b11f-34782e1e19ac"
      },
      "execution_count": 29,
      "outputs": [
        {
          "output_type": "stream",
          "name": "stdout",
          "text": [
            "['i', 'me', 'my', 'myself', 'we', 'our', 'ours', 'ourselves', 'you', \"you're\", \"you've\", \"you'll\", \"you'd\", 'your', 'yours', 'yourself', 'yourselves', 'he', 'him', 'his', 'himself', 'she', \"she's\", 'her', 'hers', 'herself', 'it', \"it's\", 'its', 'itself', 'they', 'them', 'their', 'theirs', 'themselves', 'what', 'which', 'who', 'whom', 'this', 'that', \"that'll\", 'these', 'those', 'am', 'is', 'are', 'was', 'were', 'be', 'been', 'being', 'have', 'has', 'had', 'having', 'do', 'does', 'did', 'doing', 'a', 'an', 'the', 'and', 'but', 'if', 'or', 'because', 'as', 'until', 'while', 'of', 'at', 'by', 'for', 'with', 'about', 'against', 'between', 'into', 'through', 'during', 'before', 'after', 'above', 'below', 'to', 'from', 'up', 'down', 'in', 'out', 'on', 'off', 'over', 'under', 'again', 'further', 'then', 'once', 'here', 'there', 'when', 'where', 'why', 'how', 'all', 'any', 'both', 'each', 'few', 'more', 'most', 'other', 'some', 'such', 'no', 'nor', 'not', 'only', 'own', 'same', 'so', 'than', 'too', 'very', 's', 't', 'can', 'will', 'just', 'don', \"don't\", 'should', \"should've\", 'now', 'd', 'll', 'm', 'o', 're', 've', 'y', 'ain', 'aren', \"aren't\", 'couldn', \"couldn't\", 'didn', \"didn't\", 'doesn', \"doesn't\", 'hadn', \"hadn't\", 'hasn', \"hasn't\", 'haven', \"haven't\", 'isn', \"isn't\", 'ma', 'mightn', \"mightn't\", 'mustn', \"mustn't\", 'needn', \"needn't\", 'shan', \"shan't\", 'shouldn', \"shouldn't\", 'wasn', \"wasn't\", 'weren', \"weren't\", 'won', \"won't\", 'wouldn', \"wouldn't\"]\n"
          ]
        }
      ]
    },
    {
      "cell_type": "code",
      "source": [
        "stop_words = set(stopwords.words('english'))\n",
        "from nltk.tokenize import word_tokenize\n",
        "word_tokens_1= word_tokenize(\"I like to open my mind, but my mouth in a general discussion.\")\n",
        "word_tokens_1"
      ],
      "metadata": {
        "colab": {
          "base_uri": "https://localhost:8080/"
        },
        "id": "TzneMx5_HhYy",
        "outputId": "b3524db7-50e4-4f04-ac90-65fb6670c92d"
      },
      "execution_count": 30,
      "outputs": [
        {
          "output_type": "execute_result",
          "data": {
            "text/plain": [
              "['I',\n",
              " 'like',\n",
              " 'to',\n",
              " 'open',\n",
              " 'my',\n",
              " 'mind',\n",
              " ',',\n",
              " 'but',\n",
              " 'my',\n",
              " 'mouth',\n",
              " 'in',\n",
              " 'a',\n",
              " 'general',\n",
              " 'discussion',\n",
              " '.']"
            ]
          },
          "metadata": {},
          "execution_count": 30
        }
      ]
    },
    {
      "cell_type": "code",
      "source": [
        "new_sent_1=[w for w in word_tokens_1 if w.lower() not in stop_words]\n",
        "new_sent_1 = ' '.join(str(elem) for elem in new_sent_1)\n",
        "print(new_sent_1)"
      ],
      "metadata": {
        "id": "pkmfZsH4ICBP",
        "colab": {
          "base_uri": "https://localhost:8080/"
        },
        "outputId": "1126f84a-4a03-49b1-c6a7-974947389d4c"
      },
      "execution_count": 31,
      "outputs": [
        {
          "output_type": "stream",
          "name": "stdout",
          "text": [
            "like open mind , mouth general discussion .\n"
          ]
        }
      ]
    },
    {
      "cell_type": "code",
      "source": [
        "word_tokens_2= word_tokenize(\"I like to open my mind, but not my mouth in a general discussion.\")\n",
        "new_sent_2=[w for w in word_tokens_1 if w.lower() not in stop_words]\n",
        "new_sent_2 = ' '.join(str(elem) for elem in new_sent_2)\n",
        "print(new_sent_2)"
      ],
      "metadata": {
        "colab": {
          "base_uri": "https://localhost:8080/"
        },
        "id": "SQBAiF6HIcCq",
        "outputId": "78bb3431-57a0-4a60-ba0c-1afd7b298522"
      },
      "execution_count": 32,
      "outputs": [
        {
          "output_type": "stream",
          "name": "stdout",
          "text": [
            "like open mind , mouth general discussion .\n"
          ]
        }
      ]
    },
    {
      "cell_type": "code",
      "source": [
        "new_sent_1 = nlp(new_sent_1)\n",
        "new_sent_2 = nlp(new_sent_2)\n",
        "print(new_sent_2.similarity(new_sent_1))\n"
      ],
      "metadata": {
        "id": "DnQ06GD9IluV",
        "outputId": "35474966-2930-4d08-af21-b89bd176cb7a",
        "colab": {
          "base_uri": "https://localhost:8080/"
        }
      },
      "execution_count": 33,
      "outputs": [
        {
          "output_type": "stream",
          "name": "stdout",
          "text": [
            "1.0\n"
          ]
        }
      ]
    }
  ]
}